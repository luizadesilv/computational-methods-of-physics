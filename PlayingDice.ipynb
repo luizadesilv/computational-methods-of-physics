{
  "nbformat": 4,
  "nbformat_minor": 0,
  "metadata": {
    "colab": {
      "provenance": [],
      "collapsed_sections": []
    },
    "kernelspec": {
      "name": "python3",
      "display_name": "Python 3"
    },
    "language_info": {
      "name": "python"
    }
  },
  "cells": [
    {
      "cell_type": "markdown",
      "source": [
        "Considere que você joga dois dados de seis lados não viciados e soma o número de cada dado: Y = X1 +X2,\n",
        "onde Y é a soma do resultado do dado 1, X1, e do dado 2, X2. Se fizermos esse experimento N vezes,\n",
        "obteremos que a média é dada por: \n",
        "\\begin{equation}\n",
        "    \\left ( Y \\right ) = \\frac{1}{N}\\sum_{i=1}^{N}\\left ( Yi \\right )\n",
        "\\end{equation}\n",
        "e o desvio padrão:\n",
        "\\begin{equation}\n",
        "    \\sigma = \\sqrt{\\frac{1}{N}\\sum_{i=1}^{N}\\left ( Yi - \\left ( Y \\right ) \\right )^{2}}\n",
        "\\end{equation}\n",
        "Escrever uma função que retorna uma estimativa do desvio padrão de um array y usando a equação (2);\n",
        "\n",
        "Encontre a média e o desvio padrão da média para N=1000 jogadas dos dois dados utilizando as funções dos itens 2 e 3 acima. Compare os resultados com os obtidos usando os métodos numpy.mean() e numpy.std()}\n",
        "\n",
        "\n",
        "Faça um histograma dos valores de Y obtidos a partir de N=1000 jogadas dos dois lados. Salve esse gráfico em formato PNG.\n"
      ],
      "metadata": {
        "id": "3hbZ2N4y9XyU"
      }
    },
    {
      "cell_type": "code",
      "execution_count": null,
      "metadata": {
        "colab": {
          "base_uri": "https://localhost:8080/",
          "height": 474
        },
        "id": "TnkF3zyFuFpT",
        "outputId": "61f97953-8e83-4986-fef1-4ef7f4fc6ff7"
      },
      "outputs": [
        {
          "output_type": "stream",
          "name": "stdout",
          "text": [
            "[3, 10, 11, 11, 5, 9, 6, 6, 7, 6, 5, 8, 7, 7, 8, 6, 10, 12, 11, 6, 9, 10, 12, 4, 6, 7, 6, 5, 4, 6, 8, 4, 4, 8, 6, 3, 9, 7, 11, 12, 3, 11, 5, 4, 7, 5, 5, 11, 3, 4, 4, 8, 7, 9, 7, 9, 10, 8, 6, 5, 3, 11, 5, 8, 12, 9, 7, 7, 8, 9, 6, 6, 4, 6, 6, 8, 8, 8, 11, 3, 11, 9, 9, 6, 3, 4, 7, 10, 11, 8, 3, 11, 11, 12, 8, 6, 6, 5, 7, 12, 5, 7, 4, 6, 9, 8, 7, 7, 8, 5, 7, 4, 6, 7, 5, 12, 9, 5, 3, 8, 8, 10, 7, 10, 8, 9, 8, 9, 9, 4, 4, 5, 5, 12, 6, 9, 5, 11, 5, 8, 4, 9, 7, 7, 7, 7, 7, 3, 7, 11, 7, 11, 10, 5, 5, 5, 2, 9, 7, 7, 6, 10, 7, 7, 9, 9, 6, 11, 7, 9, 6, 5, 7, 7, 7, 6, 7, 5, 8, 9, 4, 8, 6, 7, 7, 4, 12, 7, 2, 6, 4, 7, 6, 6, 3, 6, 7, 11, 4, 5, 7, 8, 6, 11, 3, 7, 5, 4, 5, 4, 8, 5, 7, 4, 3, 4, 5, 7, 5, 4, 4, 7, 7, 7, 11, 5, 4, 6, 6, 8, 9, 5, 7, 5, 4, 8, 7, 8, 5, 8, 9, 6, 6, 6, 9, 6, 7, 3, 9, 6, 12, 7, 5, 4, 10, 7, 10, 8, 9, 5, 10, 7, 7, 5, 7, 9, 6, 11, 8, 4, 7, 6, 5, 3, 8, 9, 10, 6, 6, 5, 8, 5, 8, 5, 11, 2, 7, 11, 7, 3, 12, 4, 9, 3, 5, 3, 9, 8, 8, 5, 9, 11, 4, 10, 7, 7, 10, 10, 5, 12, 10, 9, 8, 8, 9, 6, 6, 5, 6, 7, 9, 5, 5, 8, 10, 8, 7, 8, 9, 11, 8, 10, 5, 12, 3, 8, 6, 7, 7, 4, 8, 4, 10, 2, 7, 8, 9, 7, 12, 9, 11, 9, 8, 11, 7, 6, 3, 9, 10, 6, 4, 7, 7, 7, 5, 7, 7, 7, 4, 5, 8, 7, 8, 5, 8, 7, 10, 7, 9, 11, 5, 7, 9, 7, 7, 6, 7, 11, 11, 8, 6, 7, 5, 7, 9, 11, 10, 8, 4, 7, 7, 10, 5, 8, 8, 10, 7, 9, 3, 12, 6, 6, 9, 7, 12, 7, 9, 8, 6, 6, 9, 5, 6, 8, 6, 2, 6, 9, 12, 8, 7, 4, 8, 2, 7, 5, 5, 10, 7, 7, 7, 7, 7, 8, 11, 7, 7, 8, 5, 10, 5, 8, 9, 5, 7, 5, 5, 7, 6, 5, 7, 10, 8, 3, 6, 9, 5, 7, 8, 5, 10, 10, 10, 3, 8, 8, 7, 4, 12, 10, 6, 9, 2, 3, 5, 2, 6, 8, 9, 4, 6, 12, 7, 9, 7, 8, 8, 9, 12, 6, 6, 8, 8, 8, 8, 10, 11, 9, 7, 2, 7, 8, 7, 4, 6, 9, 4, 8, 8, 4, 8, 6, 8, 6, 9, 4, 6, 9, 3, 8, 3, 8, 8, 11, 7, 6, 11, 9, 9, 3, 8, 4, 10, 8, 8, 7, 7, 12, 4, 8, 12, 9, 8, 7, 6, 6, 9, 2, 9, 5, 5, 10, 8, 7, 7, 4, 6, 6, 7, 7, 7, 7, 7, 9, 4, 6, 7, 6, 5, 2, 3, 9, 8, 9, 12, 9, 8, 5, 9, 8, 8, 6, 8, 8, 4, 7, 8, 6, 5, 12, 10, 3, 6, 10, 6, 4, 4, 6, 8, 11, 7, 6, 4, 3, 4, 7, 2, 7, 3, 8, 7, 5, 8, 9, 9, 9, 6, 3, 9, 9, 9, 10, 5, 8, 9, 8, 9, 7, 6, 11, 10, 6, 9, 6, 5, 7, 5, 9, 4, 11, 8, 8, 7, 8, 9, 12, 8, 2, 9, 7, 8, 8, 9, 8, 4, 10, 5, 12, 12, 7, 5, 5, 10, 4, 8, 6, 7, 3, 7, 8, 9, 7, 8, 9, 5, 6, 11, 9, 8, 8, 11, 6, 12, 7, 8, 5, 8, 6, 3, 6, 9, 9, 11, 11, 7, 7, 9, 7, 5, 10, 8, 7, 8, 10, 4, 7, 8, 10, 9, 9, 7, 8, 9, 4, 6, 8, 6, 9, 11, 8, 2, 4, 4, 4, 3, 5, 5, 9, 10, 9, 6, 11, 8, 8, 10, 8, 11, 9, 5, 10, 8, 7, 6, 4, 6, 5, 3, 8, 3, 6, 8, 6, 11, 4, 3, 11, 10, 4, 7, 11, 7, 9, 10, 7, 10, 6, 11, 6, 8, 10, 6, 4, 8, 9, 5, 6, 7, 11, 4, 5, 9, 3, 7, 8, 9, 5, 8, 5, 9, 6, 9, 11, 9, 5, 7, 3, 2, 7, 11, 10, 7, 7, 2, 8, 4, 9, 6, 3, 2, 9, 8, 3, 8, 11, 10, 7, 6, 6, 8, 5, 4, 9, 12, 9, 6, 9, 7, 7, 7, 10, 6, 5, 10, 5, 6, 11, 8, 2, 5, 9, 8, 6, 6, 4, 10, 7, 8, 3, 2, 9, 5, 7, 9, 4, 8, 2, 6, 4, 5, 8, 10, 9, 10, 12, 2, 7, 5, 8, 10, 3, 6, 5, 5, 5, 4, 11, 5, 8, 11, 6, 7, 7, 6, 4, 4, 10, 8, 6, 5, 12, 7, 8, 5, 7, 7, 8, 8, 9, 4, 10, 4, 6, 7, 6, 3, 4, 5, 7, 5, 9, 11, 4, 6, 8, 7, 5, 4, 5, 4, 7, 4, 2, 7, 7, 3, 5, 7, 10, 6, 10, 9, 7, 4, 4, 8, 4, 7, 7, 12, 9, 8, 10, 4, 9, 8, 6, 6, 7, 6, 7, 7, 10, 2, 7, 4, 4, 6, 8, 11, 11, 10, 8, 7, 9, 6, 6, 3, 6, 8, 10, 3, 11, 10, 6, 6, 4, 11, 7, 7, 6, 10, 3, 10, 7, 8, 3, 7, 9, 4, 7]\n",
            "Média Calculada: 7.08\n",
            "Média Função: 7.08\n",
            "Desvio Calculado: 2.39\n",
            "Desvio Função: 2.39\n"
          ]
        },
        {
          "output_type": "display_data",
          "data": {
            "text/plain": [
              "<Figure size 360x360 with 1 Axes>"
            ],
            "image/png": "[encoded data removed]"
          },
          "metadata": {
            "needs_background": "light"
          }
        },
        {
          "output_type": "display_data",
          "data": {
            "text/plain": [
              "<Figure size 432x288 with 0 Axes>"
            ]
          },
          "metadata": {}
        }
      ],
      "source": [
        "from IPython.core.display import Javascript\n",
        "from random import randint\n",
        "import numpy as np\n",
        "import math\n",
        "import matplotlib.pyplot as plt\n",
        "from matplotlib import colors\n",
        "\n",
        "def soma(vezes):\n",
        "  for n in range(0, vezes):\n",
        "    dado1 = randint(1, 6)\n",
        "    dado2 = randint(1, 6)\n",
        "    soma_dados.append(dado1 + dado2)\n",
        "  print(soma_dados)\n",
        "\n",
        "  return soma_dados\n",
        "\n",
        "def media(soma_dados, tipo=1):\n",
        "  if(tipo==1):\n",
        "    media = np.mean(soma_dados)\n",
        "    print(f'Média Função: {media :.2f}')\n",
        "\n",
        "  if(tipo==2):\n",
        "    aux = 0\n",
        "    for j in range(0, len(soma_dados)):\n",
        "      aux += soma_dados[j]\n",
        "    media = aux/len(soma_dados)\n",
        "    print(f'Média Calculada: {media :.2f}')\n",
        "\n",
        "  return media\n",
        "\n",
        "def desvio(soma_dados, media, tipo=1):\n",
        "  if(tipo==1):\n",
        "    desvio = np.std(soma_dados)\n",
        "    print(f'Desvio Função: {desvio :.2f}')  \n",
        "\n",
        "  if(tipo==2):\n",
        "    aux = 0\n",
        "    for j in range(0, len(soma_dados)):\n",
        "      aux += (soma_dados[j] - media)**2\n",
        "    desvio = math.sqrt(aux/len(soma_dados))\n",
        "    print(f'Desvio Calculado: {desvio :.2f}')\n",
        "\n",
        "  return desvio\n",
        "\n",
        "jogadas_random = randint(1, 20)\n",
        "jogadas = 1000\n",
        "soma_dados = []\n",
        "\n",
        "soma_dados = soma(jogadas)\n",
        "\n",
        "media2 = media(soma_dados,2)\n",
        "media = media(soma_dados)\n",
        "\n",
        "desvio2 = desvio(soma_dados, media, 2)\n",
        "desvio = desvio(soma_dados, media)\n",
        "\n",
        "fig, axis = plt.subplots(1,1, figsize = (5,5))\n",
        "axis.hist(soma_dados,bins=10)\n",
        "plt.title('Número de jogadas obtidas em cada soma')\n",
        "plt.xlabel('número de jogadas')\n",
        "plt.ylabel('soma dos dados')\n",
        "plt.show()\n",
        "plt.savefig('Histograma.png', format='png')\n"
      ]
    }
  ]
}