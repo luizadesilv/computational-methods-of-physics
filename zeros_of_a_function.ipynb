{
  "nbformat": 4,
  "nbformat_minor": 0,
  "metadata": {
    "colab": {
      "provenance": []
    },
    "kernelspec": {
      "name": "python3",
      "display_name": "Python 3"
    },
    "language_info": {
      "name": "python"
    }
  },
  "cells": [
    {
      "cell_type": "markdown",
      "source": [
        "Tarefa Lançamento de projétil - ZERO DE FUNÇÕES\n",
        "\n",
        "Luiza Dementshuk da Silva\n",
        "\n",
        "MetCompA- Turma B\n",
        "\n",
        "Cartão 00316060"
      ],
      "metadata": {
        "id": "T8I3U-Fm8PS0"
      }
    },
    {
      "cell_type": "markdown",
      "source": [
        "Tarefa:\n",
        "1. Construa um gráfico de f(θ) em função de θ usando a equação:\n",
        "\n",
        "$ f(ϴ)=\\frac{v_0cos(θ)}{g}[v_0sen(ϴ)+ \\sqrt{v_0²sen²(θ) + 2gy_o}]  $\n",
        "\n",
        "2. Utilize um dos métodos vistos em aula para determinar os valores de θ\n",
        "que correspondem aos zeros dessa fun¸c˜ao, ou seja, onde a fun¸c˜ao cruza o\n",
        "eixo das abscissas.\n",
        "\n",
        "\n",
        "O método escolhido foi o Método da Secante, tal que x é o valor mais aproximado do ângulo no qual a função é zero, dentro de uma tolerância de $1\\times 10^{-8}$:\n",
        "\n",
        " $ x = a - \\frac{(b-a)}{f(b) - f(a)}\\times f(a) $ "
      ],
      "metadata": {
        "id": "lNV0TRu08yNV"
      }
    },
    {
      "cell_type": "code",
      "execution_count": null,
      "metadata": {
        "colab": {
          "base_uri": "https://localhost:8080/",
          "height": 351
        },
        "id": "T_-ut-LVvb-o",
        "outputId": "ba5172e1-d24a-4d52-c360-f8cc03e1e3c5"
      },
      "outputs": [
        {
          "output_type": "display_data",
          "data": {
            "text/plain": [
              "<Figure size 432x288 with 1 Axes>"
            ],
            "image/png": "[encoded data removed]"
          },
          "metadata": {
            "needs_background": "light"
          }
        },
        {
          "output_type": "stream",
          "name": "stdout",
          "text": [
            "O ângulo, em rad é 0.3257379204009022 e o valor da função é -2.1117330106790178e-11\n",
            "O ângulo, em rad é 1.1826395963846115 e o valor da função é -2.232667384305387e-09\n"
          ]
        }
      ],
      "source": [
        "import numpy as np\n",
        "import math\n",
        "import matplotlib.pyplot as plt\n",
        "\n",
        "\n",
        "def funcao(ang):\n",
        "  sen = np.sin(ang)\n",
        "  cos = np.cos(ang)\n",
        "  x = 80 \n",
        "  v0 = 120/3.6\n",
        "  y0 = 5\n",
        "  g = 9.98\n",
        "\n",
        "  f = (x - (((v0 * cos)/g)*((v0 * sen) + (math.sqrt((v0**2)*(sen**2) + (2*g*y0))))))\n",
        "\n",
        "  return f\n",
        "\n",
        "def plot_f_ang():\n",
        "  res = []\n",
        "  ang = np.arange(0, np.pi/2, 0.01)\n",
        "  for i in ang:\n",
        "    res.append(funcao(i))\n",
        "\n",
        "  plt.plot(ang, res)\n",
        "  plt.title('f x ângulo')\n",
        "  plt.xlabel('ângulo')\n",
        "  plt.ylabel('f(ângulo)')\n",
        "  plt.show()\n",
        "\n",
        "  return res\n",
        "\n",
        "def secante(a, b, tol=1e-8):\n",
        "  x = a - funcao(a)*(b-a)/(funcao(b) - funcao(a))\n",
        "\n",
        "  while abs(funcao(x)) > tol:\n",
        "    \n",
        "    if abs(a-x) > abs(b-x):\n",
        "      a = b\n",
        "      b = x\n",
        "    else:\n",
        "      b = a\n",
        "      a = x\n",
        "      \n",
        "    x = a - funcao(a)*(b-a)/(funcao(b) - funcao(a))\n",
        "\n",
        "  print(f'O ângulo, em rad é {x} e o valor da função é {funcao(x)}')\n",
        "\n",
        "  return x\n",
        "\n",
        "# --------------- MAIN ---------------- #\n",
        "\n",
        "res = plot_f_ang()\n",
        "ang_zero1 = secante(0.2, 0.6)\n",
        "ang_zero2 = secante(1., 1.2)\n"
      ]
    },
    {
      "cell_type": "markdown",
      "source": [
        "Tarefa:\n",
        "\n",
        "3. Para cada um dos ângulos θ, grafique a correspondente trajetória do\n",
        "projétil, y(t) × x(t). \n",
        "\n",
        "A equação para determinar o\n",
        "tempo no qual o projétil atinge o alvo é:\n",
        "\n",
        "$ t=\\frac{1}{g}[v_0sen(ϴ)+ \\sqrt{v_0²sen²(θ) + 2gy_o}] $\n",
        "\n",
        "Coloque as duas trajetórias em uma mesma figura, indicando na legenda do gráfico qual o valor de θ cada trajetória corresponde.\n",
        "\n",
        "A equação da posição horizontal é:\n",
        "\n",
        "$ x = v_0cos(ϴ)t $\n",
        "\n",
        "E a equação da posição vertical é:\n",
        "\n",
        "$ y = y_0 + v_0sen(θ)t-\\frac{1}{2} gt^2 $"
      ],
      "metadata": {
        "id": "2oBAz0tI_WPS"
      }
    },
    {
      "cell_type": "code",
      "source": [
        "def tempo(ang):\n",
        "  sen = np.sin(ang)\n",
        "  cos = np.cos(ang)\n",
        "  x = 80 \n",
        "  v0 = 120/3.6\n",
        "  y0 = 5\n",
        "  g = 9.98\n",
        "\n",
        "  t = (1/g) *( (v0*sen)+((math.sqrt((v0**2)*(sen**2) + (2*g*y0)))))\n",
        "  print(f'-> O tempo em que o projétil demora para atingir o solo no angulo {ang :.2f}rad é {t :.2f}s')\n",
        "\n",
        "  return t\n",
        "\n",
        "def posicao_x(ang):\n",
        "  t = tempo(ang)\n",
        "  dt = np.arange(0,t,0.01)\n",
        "  v0 = 120/3.6\n",
        "  cos = np.cos(ang)\n",
        "  x = []\n",
        "  for i in dt:\n",
        "    x.append(v0*cos*i)\n",
        "  \n",
        "  return x\n",
        "\n",
        "def posicao_y(ang):\n",
        "  t = tempo(ang)\n",
        "  dt = np.arange(0,t,0.01)\n",
        "  v0 = 120/3.6\n",
        "  sen = np.sin(ang)\n",
        "  y0 = 5\n",
        "  g = 9.98\n",
        "  y = []\n",
        "  for i in dt:\n",
        "    y.append(y0 + ((v0*sen*i) - (g*(i**2)/2)))\n",
        "\n",
        "  return y\n",
        "\n",
        "def plot_x_y(ang1, ang2):\n",
        "\n",
        "  x = posicao_x(ang1)\n",
        "  y = posicao_y(ang1)\n",
        "\n",
        "  plt.figure(1)\n",
        "\n",
        "  plt.subplot(211)\n",
        "  plt.plot(x, y)\n",
        "  plt.legend([f'âng em rad: {ang1}'])\n",
        "  plt.title('Y(t) x X(t)')\n",
        "  plt.xlabel('y(t)')\n",
        "  plt.ylabel('x(t)')\n",
        "\n",
        "  x = posicao_x(ang2)\n",
        "  y = posicao_y(ang2)\n",
        "  plt.subplot(212)\n",
        "  plt.plot(x, y)\n",
        "  plt.legend([f'âng em rad: {ang2}'])\n",
        "  plt.xlabel('y(t)')\n",
        "  plt.ylabel('x(t)')\n",
        "\n",
        "  plt.show()\n",
        "\n",
        "\n",
        "# ------------ MAIN ------------ #\n",
        "ang_zero1 = secante(0.2, 0.6)\n",
        "ang_zero2 = secante(1., 1.2)\n",
        "plot_x_y(ang_zero1, ang_zero2)"
      ],
      "metadata": {
        "colab": {
          "base_uri": "https://localhost:8080/",
          "height": 419
        },
        "id": "WLA7c25-5ybW",
        "outputId": "8c73d1e9-ee4b-487c-ce6f-ff3b642496a8"
      },
      "execution_count": null,
      "outputs": [
        {
          "output_type": "stream",
          "name": "stdout",
          "text": [
            "O ângulo, em rad é 0.3257379204009022 e o valor da função é -2.1117330106790178e-11\n",
            "O ângulo, em rad é 1.1826395963846115 e o valor da função é -2.232667384305387e-09\n",
            "-> O tempo em que o projétil demora para atingir o solo no angulo 0.33rad é 2.53s\n",
            "-> O tempo em que o projétil demora para atingir o solo no angulo 0.33rad é 2.53s\n",
            "-> O tempo em que o projétil demora para atingir o solo no angulo 1.18rad é 6.34s\n",
            "-> O tempo em que o projétil demora para atingir o solo no angulo 1.18rad é 6.34s\n"
          ]
        },
        {
          "output_type": "display_data",
          "data": {
            "text/plain": [
              "<Figure size 432x288 with 2 Axes>"
            ],
            "image/png": "[encoded data removed]"
          },
          "metadata": {
            "needs_background": "light"
          }
        }
      ]
    }
  ]
}