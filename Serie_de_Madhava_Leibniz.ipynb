{
  "nbformat": 4,
  "nbformat_minor": 0,
  "metadata": {
    "colab": {
      "provenance": [],
      "collapsed_sections": []
    },
    "kernelspec": {
      "name": "python3",
      "display_name": "Python 3"
    },
    "language_info": {
      "name": "python"
    }
  },
  "cells": [
    {
      "cell_type": "markdown",
      "source": [
        "Prova 1 - Métodos Computacionais da Física A\n",
        "Luiza Dementshuk da Silva\n",
        "Cartão 00316060\n",
        "\n",
        "Série de Madhava de Sangamagrama:\n",
        "\n",
        "$  {\\frac{\\pi}{4}} = 1 - {\\frac{1}{3}} + {\\frac{1}{5}} - {\\frac{1}{7}} + ...$\n",
        "\n",
        "Somatório da Série de Madhava-Leibniz ou Série de Gregory-Leibniz:\n",
        "\n",
        "$ \\sum_{n=0}^{N}\\ {\\frac{\\left (-1^n  \\right)}{2n - 1}} $\n"
      ],
      "metadata": {
        "id": "GAg6LxLB5Qh0"
      }
    },
    {
      "cell_type": "code",
      "execution_count": 8,
      "metadata": {
        "id": "NdNgLLgWsnFo",
        "colab": {
          "base_uri": "https://localhost:8080/",
          "height": 417
        },
        "outputId": "418d4911-d5d4-4596-e993-dcd7d8d76496"
      },
      "outputs": [
        {
          "output_type": "display_data",
          "data": {
            "text/plain": [
              "<Figure size 432x288 with 1 Axes>"
            ],
            "image/png": "[encoded data removed]"
          },
          "metadata": {
            "needs_background": "light"
          }
        },
        {
          "output_type": "stream",
          "name": "stdout",
          "text": [
            "A soma de 50 termos foi 0.7902996532467627!\n",
            "\n",
            "A soma de 250 termos foi 0.7863941753814!\n",
            "\n",
            "A soma de 500 termos foi 0.7858971648964472!\n",
            "\n",
            "O Valor exato de 0.79 foi obtido somando 64 termos\n"
          ]
        }
      ],
      "source": [
        "import matplotlib.pyplot as plt\n",
        "import numpy as np\n",
        "\n",
        "\n",
        "def define_termo(n):\n",
        "  termo = ((-1)**n)/(2*n + 1)\n",
        "  return termo\n",
        "\n",
        "def plot_n_0_a_100():\n",
        "  dn = np.arange(1,101,1)\n",
        "  serie_n = []\n",
        "  for i in range(1, 101):\n",
        "    serie_n.append(define_termo(i))\n",
        "\n",
        "  #plotando o gráfico\n",
        "  plt.plot(dn, serie_n)\n",
        "  plt.title('Série de Madhava-Leibniz variando de 1 a 100')\n",
        "  plt.xlabel('n')\n",
        "  plt.ylabel('Termos')\n",
        "  plt.show()\n",
        "\n",
        "def soma_termos(n):\n",
        "  termo = 0\n",
        "  serie = []\n",
        "  for j in range(0, n+1):\n",
        "    termo += define_termo(j)\n",
        "    serie.append(termo)\n",
        "  somatorio = serie[n]\n",
        "  return somatorio\n",
        "\n",
        "def print_soma(n, soma):\n",
        "  print(f'A soma de {n} termos foi {soma}!\\n')\n",
        "\n",
        "# Desafio\n",
        "def soma_duas_casas():\n",
        "  soma_teste = 0\n",
        "  cont = 1\n",
        "  while soma_teste != 0.79:\n",
        "    soma_teste = round(soma_termos(cont),2)\n",
        "    cont += cont\n",
        "\n",
        "  print(f'O Valor exato de {soma_teste} foi obtido somando {cont} termos')\n",
        "\n",
        "\n",
        "# main\n",
        "plot_n_0_a_100()\n",
        "\n",
        "soma50 = soma_termos(50)\n",
        "print_soma(50, soma50)\n",
        "soma250 = soma_termos(250)\n",
        "print_soma(250, soma250)\n",
        "soma500 = soma_termos(500)\n",
        "print_soma(500, soma500)\n",
        "\n",
        "# Para testar o desafio, chamar a função soma_duas_casas()\n",
        "soma_duas_casas()\n",
        "\n",
        "\n",
        "\n",
        "\n",
        "\n"
      ]
    },
    {
      "cell_type": "markdown",
      "source": [
        "Conclusão:\n",
        "\n",
        "Quanto mais termos são somados à sequência, mais a soma desses termos convergem para o valor de real de ${\\frac{\\pi}{4}}$, que é de 0.785398163, aproximadamente. \n",
        "\n",
        "Com os 500 termos, por exemplo, o erro é percebido a partir da terceira cada decimal. Já com 250 termos, o erro é percebido já na segunda casa.  \n",
        "\n",
        "-> Para fazer o desafio proposto, foi elaborada a função soma_duas_casas, que busca somar termos até encontrar o valor exato de duas casas decimais. "
      ],
      "metadata": {
        "id": "Xu68CXey75vv"
      }
    }
  ]
}