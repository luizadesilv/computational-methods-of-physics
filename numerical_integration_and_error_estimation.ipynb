{
  "nbformat": 4,
  "nbformat_minor": 0,
  "metadata": {
    "colab": {
      "provenance": []
    },
    "kernelspec": {
      "name": "python3",
      "display_name": "Python 3"
    },
    "language_info": {
      "name": "python"
    }
  },
  "cells": [
    {
      "cell_type": "markdown",
      "source": [
        "Nesta atividade vamos estimar o erro da seguinte forma:\n",
        "\\begin{equation}\n",
        "    \\epsilon  = |I_e - I_N |\n",
        "\\end{equation}\n",
        "Onde I(N) é o valor da integral obtido dividindo o intervalo de integração em N partes e Iexata é a solução analítica para a integral.\n",
        "\n",
        "Um teste simples para verificar quando a resposta está convergindo é aumentar N e calcular o erro a cada incremento no seu valor.  Se $\\Delta x$ é a fatia sobre o eixo x após dividi-lo em N partes. Espera-se que o erro seja proporcional a $\\Delta x$.\n",
        "\n",
        "Etapas:\n",
        "\n",
        "Escreva um programa que calcule o erro do método do trapézio em função de N. Este programa deve usar 10 valores diferentes de N: 2²,...,2²⁰. \n",
        "\n",
        "Para cada valor de N corresponde um $\\Delta x$, calcule quanto vale a integral para este $\\Delta x$ e guarde o erro em relação à solução exata em uma lista. Assim, você poderá calcular o erro com relação à solução exata para as diferentes partições do intervalo, portanto, para cada $\\Delta x$.\n",
        "\n",
        "Escreva um programa que calcule o erro do método de Simpson em função de N de maneira similar ao do exercício anterior. Lembre que o método de Simpson requer que N seja par. \n",
        "\n",
        "\n",
        "Considere a função a ser integrada:\n",
        "\\begin{equation}\n",
        "    f\\left ( x \\right ) = \\frac{1}{x^{2}+1}\n",
        "\\end{equation}\n",
        "e o intervalo de integração de $x=-3$ a $x=3$. \n",
        "\n",
        "Determine a inclinação no gráfico $log(\\epsilon )$  por  $log($\\Delta x$)$\n",
        "\n",
        "\n",
        "O cálculo da Integração pelo método do Trapézio é dado por: \n",
        "\\begin{equation}\n",
        "    \\int_{a}^{b}f\\left ( x \\right )dx \\approx \\sum_{i=1}^{N}\\frac{f\\left ( x_i \\right) + f\\left ( x_i-_1 \\right )}{2}\\times \\Delta x\n",
        "\\end{equation}\n",
        "\n",
        "Enquanto o cálcuolo da Integração pelo método de Simpson é:\n",
        "\\begin{equation}\n",
        "    \\int_{a}^{b}f\\left ( x \\right )dx \\approx \\frac{h}{3}\\times \\left [ f\\left ( a \\right )  + f\\left ( b \\right ) + 4\\times \\sum_{i impar}^{} f\\left ( a +ih \\right ) + 2\\sum_{i par}^{}f\\left ( a + ih \\right )\\right ]\n",
        "\\end{equation}\n",
        "sendo:\n",
        "\\begin{equation}\n",
        "    \\Delta x = \\left ( \\frac{b - a}{N} \\right )\n",
        "\\end{equation}\n",
        "\\begin{equation}\n",
        "    h = \\left ( \\frac{b - a}{N} \\right )\n",
        "\\end{equation}\n",
        "\n",
        "O erro de integração é obtido subtraíndo o valor da integral exata pelo encontrado pelos métodos acima:\n",
        "\\begin{equation}\n",
        "    \\epsilon  = |I_e - I_N |\n",
        "\\end{equation}"
      ],
      "metadata": {
        "id": "1-qlMeONY6tw"
      }
    },
    {
      "cell_type": "markdown",
      "source": [
        "Imports"
      ],
      "metadata": {
        "id": "AqGIt1mXGsj3"
      }
    },
    {
      "cell_type": "code",
      "execution_count": null,
      "metadata": {
        "id": "7IztnrtxwMZP"
      },
      "outputs": [],
      "source": [
        "import numpy as np\n",
        "import matplotlib.pyplot as plt\n",
        "import math"
      ]
    },
    {
      "cell_type": "markdown",
      "source": [
        "Methods\n"
      ],
      "metadata": {
        "id": "H6LRZxvU9dUL"
      }
    },
    {
      "cell_type": "code",
      "source": [
        "def funcao(x):\n",
        " res = 1/((x**2) + 1)\n",
        " return res\n",
        "\n",
        "def trapezio (a, b, n):\n",
        "  dx = (b-a)/n\n",
        "  som = 0\n",
        "  for i in range(1, n):\n",
        "    som += funcao(a+(dx*i))\n",
        "  flinha = ((funcao(a) + funcao(b))/2 + som)*dx\n",
        "  return flinha\n",
        "\n",
        "def erro_metodo (a, b, n, metodo):\n",
        "  integral_exata = 2.4980915447965089\n",
        "  erro = abs(integral_exata - metodo(a, b, n))\n",
        "\n",
        "  return erro\n",
        "\n",
        "def lista_erros (a, b, metodo):\n",
        "  integrais = []\n",
        "  erro = []\n",
        "  for i in range(2, 22, 2):\n",
        "    n = 2**i\n",
        "    integrais.append(np.log((b-a)/n))\n",
        "    erro.append(np.log(erro_metodo(a, b, n, metodo)))\n",
        "\n",
        "  return erro, integrais\n",
        "\n",
        "def simpson (a, b, n):\n",
        "  h = (b-a)/n\n",
        "  soma_impar = 0\n",
        "  soma_par = 0\n",
        "  aux = 0\n",
        "\n",
        "  for i in range(1, n):\n",
        "    aux = funcao((h*i)+a)\n",
        "    if i % 2 == 0:\n",
        "      soma_par += aux\n",
        "    else:\n",
        "      soma_impar += aux\n",
        "\n",
        "  flinha = (h/3)*((funcao(a) + funcao(b)) + (4*soma_impar) + (2*soma_par))\n",
        "  return flinha\n",
        "\n",
        "def plot (trapezio, simpson, integrais):\n",
        "  plt.plot(integrais, trapezio, color='red', label='Trapézio')\n",
        "  plt.plot(integrais, simpson, color='black', label='Simpson')\n",
        "  plt.legend()\n",
        "  plt.title('Erro Integração')\n",
        "  plt.xlabel('log(Δx)')\n",
        "  plt.ylabel('log(ε)')\n",
        "  plt.show()\n",
        "\n",
        "def inclinacao (erro_trapezio, erro_simpson, integrais):\n",
        "  inc_trapezio = round((erro_trapezio[6] - erro_trapezio[5])/(integrais[6]-integrais[5]))\n",
        "  inc_simpson = round((erro_simpson[3] - erro_simpson[2])/(integrais[3]-integrais[2]))\n",
        "  print(f'A inclinação da reta p/ o método de Trapézio é {inc_trapezio}')\n",
        "  print(f'A inclinação da reta p/ o método de Simpson é {inc_simpson}')"
      ],
      "metadata": {
        "id": "RLiQrUCV1Vb7"
      },
      "execution_count": null,
      "outputs": []
    },
    {
      "cell_type": "markdown",
      "source": [
        "Main"
      ],
      "metadata": {
        "id": "43WGopfu9gNv"
      }
    },
    {
      "cell_type": "code",
      "source": [
        "erro_trapezio, integrais = lista_erros(-3, 3, trapezio)\n",
        "erro_simpson, integrais = lista_erros(-3, 3, simpson)\n",
        "inclinacao(erro_trapezio, erro_simpson, integrais)\n",
        "plot(erro_trapezio, erro_simpson, integrais)"
      ],
      "metadata": {
        "colab": {
          "base_uri": "https://localhost:8080/",
          "height": 330
        },
        "id": "QCt0KGYe6SH7",
        "outputId": "24e5053f-c512-4387-9ed2-c9812464894d"
      },
      "execution_count": null,
      "outputs": [
        {
          "output_type": "stream",
          "name": "stdout",
          "text": [
            "A inclinação da reta p/ o método de Trapézio é 2\n",
            "A inclinação da reta p/ o método de Simpson é 4\n"
          ]
        },
        {
          "output_type": "display_data",
          "data": {
            "text/plain": [
              "<Figure size 432x288 with 1 Axes>"
            ],
            "image/png": "[encoded data removed]"
          },
          "metadata": {
            "needs_background": "light"
          }
        }
      ]
    }
  ]
}